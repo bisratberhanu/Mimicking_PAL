{
  "nbformat": 4,
  "nbformat_minor": 0,
  "metadata": {
    "colab": {
      "provenance": []
    },
    "kernelspec": {
      "name": "python3",
      "display_name": "Python 3"
    },
    "language_info": {
      "name": "python"
    }
  },
  "cells": [
    {
      "cell_type": "markdown",
      "source": [
        "# Mimicking  Program Aided language model using a large language model\n",
        "- The following program is designed to mimick program aided language(PAL) using the gemini-pro large language model\n",
        "- using prompt engineering, the following progrma will\n",
        "\n",
        "  - use a boiler plate prompt to solve **mathimatical questions** and return the python code\n",
        "  - execute the python code to reach to the result using the python interpreter"
      ],
      "metadata": {
        "id": "T8Osz0rrtkom"
      }
    },
    {
      "cell_type": "code",
      "source": [
        "! pip install -q --upgrade google-generativeai"
      ],
      "metadata": {
        "colab": {
          "base_uri": "https://localhost:8080/"
        },
        "id": "L21hCs8-sqSk",
        "outputId": "702e7e09-9acf-49f5-e300-59fd76d53866"
      },
      "execution_count": 3,
      "outputs": [
        {
          "output_type": "stream",
          "name": "stdout",
          "text": [
            "\u001b[2K   \u001b[90m━━━━━━━━━━━━━━━━━━━━━━━━━━━━━━━━━━━━━━━━\u001b[0m \u001b[32m160.8/160.8 kB\u001b[0m \u001b[31m2.9 MB/s\u001b[0m eta \u001b[36m0:00:00\u001b[0m\n",
            "\u001b[2K   \u001b[90m━━━━━━━━━━━━━━━━━━━━━━━━━━━━━━━━━━━━━━━━\u001b[0m \u001b[32m760.0/760.0 kB\u001b[0m \u001b[31m18.2 MB/s\u001b[0m eta \u001b[36m0:00:00\u001b[0m\n",
            "\u001b[?25h"
          ]
        }
      ]
    },
    {
      "cell_type": "code",
      "source": [
        "import google.generativeai as genai\n",
        "from google.colab import userdata\n",
        "from IPython.display import Markdown\n",
        "import textwrap"
      ],
      "metadata": {
        "id": "l-mD6aNus3d1"
      },
      "execution_count": 4,
      "outputs": []
    },
    {
      "cell_type": "code",
      "execution_count": 13,
      "metadata": {
        "id": "H3rm80HNgAb3"
      },
      "outputs": [],
      "source": [
        "\n",
        "import os\n",
        "GOOGLE_API_KEY=userdata.get('GOOGLE_API_KEY')\n",
        "genai.configure(api_key=GOOGLE_API_KEY)\n",
        "model = genai.GenerativeModel('gemini-1.5-pro')"
      ]
    },
    {
      "cell_type": "code",
      "source": [
        "# A helper function for better visualization\n",
        "def to_markdown(text):\n",
        "  text = text.replace('•', '  *')\n",
        "  return Markdown(textwrap.indent(text, '> ', predicate=lambda _: True))"
      ],
      "metadata": {
        "id": "x2-bQU6Gw4Eq"
      },
      "execution_count": 6,
      "outputs": []
    },
    {
      "cell_type": "code",
      "source": [
        "# A prompt to be used for feature questions\n",
        "prompt = \"\"\"\n",
        "You are a Python programming assistant. I will describe math and logic problems,\n",
        "and you will generate **only Python code** to solve them.\n",
        "\n",
        " provide **only the Python code**,  including the comments nothing else and also dont include any markdown symbols, as will directly\n",
        " give the return to a python interpreter and always print the result so it  can seen on a console.\n",
        "\n",
        "Example 1: Olivia has $23. She bought five bagels for $3 each.\n",
        "How much money does she have left? Write Python code to solve this.\n",
        "\n",
        "# Python code for Example 1:\n",
        "money_left = 23 - (5 * 3)\n",
        "print(money_left)\n",
        "\n",
        "Example 2: On the table, you see a bunch of objects arranged in a row:\n",
        "a purple paperclip, a pink stress ball, a brown keychain, a green scrunchiephone charger,\n",
        "a mauve fidget spinner, and a burgundy pen. What is the color of the object directly to the\n",
        "right of the stress ball? Write Python code to solve this.\n",
        "\n",
        "# Python code for Example 2:\n",
        "objects = ['purple paperclip', 'pink stress ball', 'brown keychain', 'green scrunchiephone charger', 'mauve fidget spinner', 'burgundy pen']\n",
        "stress_ball_index = objects.index('pink stress ball')\n",
        "right_object_color = objects[stress_ball_index + 1].split()[0]\n",
        "print(right_object_color)\n",
        "\n",
        "Example 3: What is the sum of the first 50 prime numbers?\n",
        "Write Python code to calculate and output the sum.\n",
        "\n",
        "# Python code for Example 3:\n",
        "def is_prime(n):\n",
        "    if n < 2:\n",
        "        return False\n",
        "    for i in range(2, int(n ** 0.5) + 1):\n",
        "        if n % i == 0:\n",
        "            return False\n",
        "    return True\n",
        "\n",
        "primes = []\n",
        "num = 2\n",
        "while len(primes) < 50:\n",
        "    if is_prime(num):\n",
        "        primes.append(num)\n",
        "    num += 1\n",
        "\n",
        "print(sum(primes))\n",
        "\n",
        "Important: Provide only Python code for the  answer.\n",
        "\"\"\"\n"
      ],
      "metadata": {
        "id": "XXrV7H1MWoIr"
      },
      "execution_count": 7,
      "outputs": []
    },
    {
      "cell_type": "code",
      "source": [
        "#user asks the question here\n",
        "question ='''the question is:I have a chair, two potatoes, a cauliflower, a lettuce head, two tables, a cabbage, two onions, and\n",
        "three fridges. How many vegetables do I have?'''"
      ],
      "metadata": {
        "id": "THFqsypmgmcg"
      },
      "execution_count": 1,
      "outputs": []
    },
    {
      "cell_type": "code",
      "source": [
        "full_prompt = prompt + question"
      ],
      "metadata": {
        "id": "33NbcI5ehZTI"
      },
      "execution_count": 8,
      "outputs": []
    },
    {
      "cell_type": "code",
      "source": [
        "# Send the prompt to the Gemini model using the genai API\n",
        "response = model.generate_content(full_prompt)\n",
        "\n",
        "# Get the response text, which should include Python code\n",
        "to_markdown(response.text)\n",
        "\n"
      ],
      "metadata": {
        "id": "oGa9u_7nslGo"
      },
      "execution_count": null,
      "outputs": []
    },
    {
      "cell_type": "code",
      "source": [
        "#execute the returned python code\n",
        "exec(response.text)"
      ],
      "metadata": {
        "colab": {
          "base_uri": "https://localhost:8080/"
        },
        "id": "53T-Vo1ixpe2",
        "outputId": "70b160cd-c744-4604-97ec-e09a77bd473f"
      },
      "execution_count": 10,
      "outputs": [
        {
          "output_type": "stream",
          "name": "stdout",
          "text": [
            "7\n"
          ]
        }
      ]
    }
  ]
}